{
 "cells": [
  {
   "cell_type": "markdown",
   "metadata": {},
   "source": [
    "# Server demo\n",
    "\n",
    "This notebook sends all the files in the ./demo_images directory to running ImageDetector app, and recieves the ALTO xml files as an answer and saves it to the file ./demo_output.\n",
    "\n",
    "Before you run this notebook, you must have ImageDetector app running on the http://127.0.0.1:5000/ (or some other address and change te notebook accordingly).\n",
    "To start it, run `python app.py` command in the terminal."
   ]
  },
  {
   "cell_type": "code",
   "execution_count": 1,
   "metadata": {},
   "outputs": [],
   "source": [
    "import os\n",
    "import requests as rq\n",
    "from datetime import datetime,timedelta"
   ]
  },
  {
   "cell_type": "code",
   "execution_count": 2,
   "metadata": {},
   "outputs": [
    {
     "name": "stdout",
     "output_type": "stream",
     "text": [
      "files processed: 30, from that 0 errors\n",
      "time predicting: 0:01:18.662052, per file 0:00:02.622068\n",
      "total time (with saving responses): 0:01:18.674153, per file 0:00:02.622472\n"
     ]
    }
   ],
   "source": [
    "time_predicting=timedelta(0)\n",
    "total_time = timedelta(0)\n",
    "\n",
    "image_dir = \"./demo_images\"\n",
    "output_dir= \"./demo_output\"\n",
    "detector_address = \"http://127.0.0.1:5000/alto\"  #send to http://127.0.0.1:5000/json if you want the response in json format\n",
    "errors=0\n",
    "\n",
    "start=datetime.now()\n",
    "\n",
    "for n,image_name in enumerate(os.listdir(image_dir)):\n",
    "\n",
    "    #get file identifier, will be used in alto.xml\n",
    "    uuid=os.path.splitext(image_name)[0]  #assuming image names are their uuids\n",
    "\n",
    "    #send the file to the detector app\n",
    "    with open(os.path.join(image_dir,image_name), 'rb') as f:\n",
    "        start_predicting=datetime.now()\n",
    "        response=rq.post(detector_address, data={\"file_identifier\":uuid}, files={\"image_data\":f})\n",
    "        time_predicting += datetime.now() - start_predicting\n",
    "\n",
    "    #if response is OK, save the result\n",
    "    if response.ok:\n",
    "        with open(os.path.join(output_dir, uuid + \".alto.xml\"), 'w') as f:\n",
    "            f.write(response.text)\n",
    "    else:\n",
    "        errors+=1\n",
    "    \n",
    "        \n",
    "total_time+=datetime.now()-start\n",
    "\n",
    "print(f\"files processed: {n}, from that {errors} errors\")\n",
    "print(f\"time predicting: {time_predicting}, per file {time_predicting/n}\")\n",
    "print(\n",
    "    f\"total time (with saving responses): {total_time}, per file {total_time/n}\")\n",
    "\n"
   ]
  },
  {
   "cell_type": "code",
   "execution_count": null,
   "metadata": {},
   "outputs": [],
   "source": []
  }
 ],
 "metadata": {
  "interpreter": {
   "hash": "916dbcbb3f70747c44a77c7bcd40155683ae19c65e1c03b4aa3499c5328201f1"
  },
  "kernelspec": {
   "display_name": "Python 3.8.10 64-bit",
   "language": "python",
   "name": "python3"
  },
  "language_info": {
   "codemirror_mode": {
    "name": "ipython",
    "version": 3
   },
   "file_extension": ".py",
   "mimetype": "text/x-python",
   "name": "python",
   "nbconvert_exporter": "python",
   "pygments_lexer": "ipython3",
   "version": "3.8.10"
  },
  "orig_nbformat": 4
 },
 "nbformat": 4,
 "nbformat_minor": 2
}
