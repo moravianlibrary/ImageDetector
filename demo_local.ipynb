{
 "cells": [
  {
   "cell_type": "markdown",
   "metadata": {},
   "source": [
    "# Demo\n",
    "\n",
    "This notebook processes files in the ./demo_images and saves the result as ALTO to ./demo_output"
   ]
  },
  {
   "cell_type": "code",
   "execution_count": 3,
   "metadata": {},
   "outputs": [],
   "source": [
    "import os\n",
    "import requests as rq\n",
    "from datetime import datetime,timedelta\n",
    "from detector import Detector\n",
    "from serialization import make_alto, make_json\n",
    "import json"
   ]
  },
  {
   "cell_type": "code",
   "execution_count": 4,
   "metadata": {},
   "outputs": [
    {
     "name": "stdout",
     "output_type": "stream",
     "text": [
      "INFO:tensorflow:Restoring parameters from model_weights/variables/variables\n",
      "uuid: 1f32f2bd-6105-4bf6-b99b-2b1730a1b40d, #boxes: 0\n",
      "uuid: 0b2b6420-f7af-11e7-b30f-5ef3fc9ae867, #boxes: 0\n",
      "uuid: 0cfe2c00-6561-11dd-bdc5-000d606f5dc6, #boxes: 2\n",
      "uuid: 1be705b0-207f-11e7-a77b-001018b5eb5c, #boxes: 1\n",
      "uuid: 1cc52e60-cbd3-11e4-a19f-001018b5eb5c, #boxes: 1\n",
      "uuid: 0e14d3a0-0eba-11e5-b562-005056827e51, #boxes: 1\n",
      "uuid: 0cbcc710-c77b-11e3-b110-005056827e51, #boxes: 0\n",
      "uuid: 1ebde140-bd07-11e6-9afa-001018b5eb5c, #boxes: 3\n",
      "uuid: 1e29e070-8a39-11e8-9690-005056827e51, #boxes: 0\n",
      "uuid: 1c19c7a5-4117-11e1-2028-001143e3f55c, #boxes: 0\n",
      "uuid: 01c4f710-8973-11e8-9690-005056827e51, #boxes: 5\n",
      "uuid: 0b165bd0-f87b-11e7-9854-5ef3fc9ae867, #boxes: 2\n",
      "uuid: 0e3bb3c0-c122-11e4-837c-001018b5eb5c, #boxes: 1\n",
      "uuid: 1d8d6640-fea7-4756-bcf0-fcda5355c3f8, #boxes: 0\n",
      "uuid: 00d47930-5981-11eb-8019-5ef3fc9bb22f, #boxes: 3\n",
      "uuid: 0efa4530-05f4-11e5-9506-005056827e51, #boxes: 4\n",
      "uuid: 1b32cae2-7cd9-466a-92d8-5b72dde1e859, #boxes: 0\n",
      "uuid: 0c031510-9bc5-11e6-9328-005056825209, #boxes: 1\n",
      "uuid: 0b0e8830-aaf5-11e6-adc9-5ef3fc9ae867, #boxes: 5\n",
      "uuid: 0bcaa767-82ca-11e0-a346-0050569d679d, #boxes: 7\n",
      "uuid: 0ac72ad5-f32f-4b55-ba7e-94d7e725f1fb, #boxes: 0\n",
      "uuid: 1a5f5ed0-2885-11e9-b63d-5ef3fc9ae867, #boxes: 0\n",
      "uuid: 0eb56bb0-641c-11e4-8fe2-5ef3fc9bb22f, #boxes: 1\n",
      "uuid: 1cf7aec0-d705-11e4-97af-005056827e51, #boxes: 0\n",
      "uuid: 1cdc4260-3481-11e4-a8ab-001018b5eb5c, #boxes: 1\n",
      "uuid: 0d46aba0-462f-11e4-a450-5ef3fc9bb22f, #boxes: 0\n",
      "uuid: 01d49f70-a7cf-11e7-8394-5ef3fc9ae867, #boxes: 1\n",
      "uuid: 0fb3fe37-96d7-11e9-b97b-001b63bd97ba, #boxes: 1\n",
      "uuid: 1e478d40-f209-11e3-a012-005056825209, #boxes: 0\n",
      "uuid: 01b92bc0-0c36-11e8-8485-5ef3fc9ae867, #boxes: 1\n",
      "uuid: 1b3d85b9-9c4d-4e64-a29c-a63835f64c7b, #boxes: 0\n",
      "files processed: 30, from that 0 errors\n",
      "time predicting: 0:01:23.347045, per file 0:00:02.778235\n",
      "total time (with saving responses): 0:01:23.372060, per file 0:00:02.779069\n"
     ]
    }
   ],
   "source": [
    "time_predicting=timedelta(0)\n",
    "total_time = timedelta(0)\n",
    "errors = 0\n",
    "\n",
    "image_dir = \"./demo_images\"\n",
    "output_dir= \"./demo_output\"\n",
    "\n",
    "\n",
    "#initialize detector\n",
    "with open(\"config.json\") as f:\n",
    "    config = json.load(f)\n",
    "        \n",
    "detector=Detector(config)\n",
    "\n",
    "\n",
    "start=datetime.now()\n",
    "for n,image_name in enumerate(os.listdir(image_dir)):\n",
    "\n",
    "    #get file identifier, only needed to make alto\n",
    "    uuid=os.path.splitext(image_name)[0]  #assuming image names are their uuids      \n",
    "\n",
    "    #prediction\n",
    "    start_predicting=datetime.now()\n",
    "    boxes,(width,height)=detector.process(os.path.join(image_dir,image_name))   \n",
    "\n",
    "    print(f\"uuid: {uuid}, #boxes: {len(boxes)}\") \n",
    "    time_predicting += datetime.now() - start_predicting\n",
    "\n",
    "    #serialize answer to alto.xml\n",
    "    alto=make_alto(boxes=boxes,page_height=height,page_width=width,file_identifier=uuid)\n",
    "    with open(os.path.join(output_dir, uuid + \".alto.xml\"), 'wb') as f:\n",
    "        f.write(alto)\n",
    "\n",
    "    #use this if you want result in json files\n",
    "    #json_output = make_json(boxes=boxes, page_height=height,\n",
    "    #                 page_width=width, file_identifier=uuid)\n",
    "    #with open(os.path.join(output_dir, uuid + \".json\"), 'w') as f:\n",
    "    #    f.write(json_output)\n",
    "        \n",
    "total_time+=datetime.now()-start\n",
    "\n",
    "print(f\"files processed: {n}, from that {errors} errors\")\n",
    "print(f\"time predicting: {time_predicting}, per file {time_predicting/n}\")\n",
    "print(\n",
    "    f\"total time (with saving responses): {total_time}, per file {total_time/n}\")\n",
    "\n"
   ]
  },
  {
   "cell_type": "code",
   "execution_count": null,
   "metadata": {},
   "outputs": [],
   "source": []
  },
  {
   "cell_type": "code",
   "execution_count": null,
   "metadata": {},
   "outputs": [],
   "source": []
  },
  {
   "cell_type": "code",
   "execution_count": null,
   "metadata": {},
   "outputs": [],
   "source": []
  }
 ],
 "metadata": {
  "interpreter": {
   "hash": "916dbcbb3f70747c44a77c7bcd40155683ae19c65e1c03b4aa3499c5328201f1"
  },
  "kernelspec": {
   "display_name": "Python 3.8.10 64-bit",
   "language": "python",
   "name": "python3"
  },
  "language_info": {
   "codemirror_mode": {
    "name": "ipython",
    "version": 3
   },
   "file_extension": ".py",
   "mimetype": "text/x-python",
   "name": "python",
   "nbconvert_exporter": "python",
   "pygments_lexer": "ipython3",
   "version": "3.6.13"
  },
  "orig_nbformat": 4
 },
 "nbformat": 4,
 "nbformat_minor": 2
}
